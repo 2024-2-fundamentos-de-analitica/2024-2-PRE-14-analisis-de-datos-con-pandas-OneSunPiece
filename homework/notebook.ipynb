{
 "cells": [
  {
   "cell_type": "code",
   "execution_count": null,
   "metadata": {},
   "outputs": [],
   "source": [
    "# Carga de datos\n",
    "import pandas as pd  #  type: ignore\n",
    "\n",
    "pd.set_option(\"display.notebook_repr_html\", False)\n",
    "\n",
    "flights = pd.read_csv(\n",
    "    \"https://raw.githubusercontent.com/jdvelasq/playground/master/datasets/flights.csv\",\n",
    "    sep=\",\",\n",
    "    thousands=None,\n",
    "    decimal=\".\",\n",
    ")\n",
    "\n",
    "flights.info()"
   ]
  },
  {
   "cell_type": "code",
   "execution_count": null,
   "metadata": {},
   "outputs": [],
   "source": [
    "# Estadísticos de las columnas numéricas\n",
    "flights.describe()"
   ]
  },
  {
   "cell_type": "code",
   "execution_count": null,
   "metadata": {},
   "outputs": [],
   "source": [
    "# Cómputo del total de registros de la tabla\n",
    "numTotalFlights = len(flights)\n",
    "numTotalFlights"
   ]
  },
  {
   "cell_type": "code",
   "execution_count": null,
   "metadata": {},
   "outputs": [],
   "source": [
    "# Filtrado de registros para vuelos retrasados\n",
    "# Un vuelo con un retraso mayor a 15 minutos se considera retrasado\n",
    "# (columna DepDelay).\n",
    "delayedFlights = flights[flights[\"DepDelay\"] > 15][[\"UniqueCarrier\", \"DepDelay\"]]\n",
    "delayedFlights.head(5)"
   ]
  },
  {
   "cell_type": "code",
   "execution_count": null,
   "metadata": {},
   "outputs": [],
   "source": [
    "# Cálculo del porcentaje de vuelos retrasados\n",
    "numDelayedFlights = len(delayedFlights)\n",
    "print(\n",
    "    \"Porcentaje de vuelos retrasados: \"\n",
    "    + str(round(numDelayedFlights / numTotalFlights * 100, 2))\n",
    "    + \"%\"\n",
    ")"
   ]
  },
  {
   "cell_type": "code",
   "execution_count": null,
   "metadata": {},
   "outputs": [],
   "source": [
    "# Copia de una tabla y copia de columnas\n",
    "flightsWithDelays = flights[\n",
    "    [\n",
    "        \"Year\",\n",
    "        \"Month\",\n",
    "        \"DayofMonth\",\n",
    "        \"UniqueCarrier\",\n",
    "        \"FlightNum\",\n",
    "        \"DepDelay\",\n",
    "    ]\n",
    "].copy()\n",
    "\n",
    "flightsWithDelays[\"IsDelayed\"] = flightsWithDelays[\"DepDelay\"].copy()"
   ]
  },
  {
   "cell_type": "code",
   "execution_count": null,
   "metadata": {},
   "outputs": [],
   "source": [
    "# Conteo de registros nulos en una columna\n",
    "flightsWithDelays.IsDelayed.isna().sum()"
   ]
  },
  {
   "cell_type": "code",
   "execution_count": null,
   "metadata": {},
   "outputs": [],
   "source": [
    "# Aplicación de una función a una columna\n",
    "flightsWithDelays[\"IsDelayed\"] = flightsWithDelays[\"IsDelayed\"].map(\n",
    "    lambda x: 0 if pd.isna(x) else x\n",
    ")\n",
    "flightsWithDelays[\"IsDelayed\"] = flightsWithDelays[\"IsDelayed\"].map(\n",
    "    lambda x: 1 if x > 15 else 0\n",
    ")\n",
    "\n",
    "flightsWithDelays[[\"DepDelay\", \"IsDelayed\"]].head(10)"
   ]
  },
  {
   "cell_type": "code",
   "execution_count": null,
   "metadata": {},
   "outputs": [],
   "source": [
    "# Cálculo del porcentaje de vuelos retrasados\n",
    "print(\n",
    "    \"Porcentaje de vuelos retrasados: {:4.2f} %\".format(\n",
    "        100 * flightsWithDelays.IsDelayed.sum() / flightsWithDelays.DepDelay.count()\n",
    "    )\n",
    ")"
   ]
  },
  {
   "cell_type": "code",
   "execution_count": null,
   "metadata": {},
   "outputs": [],
   "source": [
    "# Cantidad de vuelos retrasados por transportador\n",
    "import os\n",
    "import matplotlib.pyplot as plt  #  type: ignore\n",
    "\n",
    "if not os.path.exists(\"../files/images\"):\n",
    "    os.makedirs(\"../files/images\")\n",
    "\n",
    "flights[\"IsDelayed\"] = flights[\"DepDelay\"].copy()\n",
    "flights[\"IsDelayed\"] = flights[\"IsDelayed\"].map(lambda x: 0 if pd.isna(x) else x)\n",
    "flights[\"IsDelayed\"] = flights[\"IsDelayed\"].map(lambda x: int(x > 15))\n",
    "(flights.groupby(\"UniqueCarrier\").sum())[\"IsDelayed\"].plot.bar(\n",
    "    color=\"tab:blue\",\n",
    "    alpha=0.7,\n",
    ")\n",
    "\n",
    "plt.gca().spines[\"left\"].set_color(\"lightgray\")\n",
    "plt.gca().spines[\"bottom\"].set_color(\"gray\")\n",
    "plt.gca().spines[\"top\"].set_visible(False)\n",
    "plt.gca().spines[\"right\"].set_visible(False)\n",
    "plt.savefig(\n",
    "    \"../files/images/delays_by_carrier.png\",\n",
    ")\n",
    "plt.show()\n"
   ]
  },
  {
   "cell_type": "code",
   "execution_count": null,
   "metadata": {},
   "outputs": [],
   "source": [
    "# Retrasos por día de la semana\n",
    "(flights.groupby(\"DayOfWeek\").sum())[\"IsDelayed\"].plot.bar(\n",
    "    color=\"tab:blue\",\n",
    "    alpha=0.7,\n",
    ")\n",
    "\n",
    "plt.gca().spines[\"left\"].set_color(\"lightgray\")\n",
    "plt.gca().spines[\"bottom\"].set_color(\"gray\")\n",
    "plt.gca().spines[\"top\"].set_visible(False)\n",
    "plt.gca().spines[\"right\"].set_visible(False)\n",
    "plt.savefig(\n",
    "    \"../files/images/delays_by_day_of_week.png\",\n",
    ")\n",
    "plt.show()"
   ]
  },
  {
   "cell_type": "code",
   "execution_count": null,
   "metadata": {},
   "outputs": [],
   "source": [
    "# Retrasos por hora del día\n",
    "\n",
    "flights[\"hour\"] = flights[\"DepTime\"].copy()\n",
    "\n",
    "flights[\"hour\"] = flights[\"hour\"].map(lambda x: int(x / 100) if not pd.isna(x) else x)\n",
    "\n",
    "(flights.groupby(\"hour\").sum())[\"IsDelayed\"].plot.bar(\n",
    "    color=\"tab:red\",\n",
    "    alpha=0.7,\n",
    "    figsize=(10, 4),\n",
    ")\n",
    "\n",
    "plt.gca().spines[\"left\"].set_color(\"lightgray\")\n",
    "plt.gca().spines[\"bottom\"].set_color(\"gray\")\n",
    "plt.gca().spines[\"top\"].set_visible(False)\n",
    "plt.gca().spines[\"right\"].set_visible(False)\n",
    "plt.savefig(\n",
    "    \"../files/images/delays_by_hour_of_day.png\",\n",
    ")\n",
    "plt.show()"
   ]
  }
 ],
 "metadata": {
  "language_info": {
   "name": "python"
  },
  "orig_nbformat": 4
 },
 "nbformat": 4,
 "nbformat_minor": 2
}
